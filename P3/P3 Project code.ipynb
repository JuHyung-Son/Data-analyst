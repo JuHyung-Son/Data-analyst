{
 "cells": [
  {
   "cell_type": "code",
   "execution_count": 1,
   "metadata": {
    "collapsed": true
   },
   "outputs": [],
   "source": [
    "#data wrangling\n",
    "\n",
    "\n",
    "#Counting problems\n",
    "\n",
    "def counting(filename):\n",
    "    st=0\n",
    "    stdot=0\n",
    "    rd=0\n",
    "    ave=0\n",
    "    for i,element in ET.iterparse(filename):\n",
    "        if element.tag == 'tag':\n",
    "            if 'St' in element.attrib['v']:\n",
    "                st+=1\n",
    "            elif 'St.' in element.attrib['v']:\n",
    "                stdot+=1\n",
    "            elif 'Rd' in element.attrib['v']:\n",
    "                rd+=1\n",
    "            elif 'Ave' in element.attrib['v']:\n",
    "                ave+=1\n",
    "    print [st, stdot, rd, ave]\n",
    "    return [st, stdot, rd, ave]\n",
    "\n",
    "#Auditing Street names\n",
    "def update_name(name, mapping):\n",
    "    m = street_type_re.search(name)\n",
    "    if m:\n",
    "        street_type = m.group()\n",
    "        if street_type in mapping.keys():\n",
    "            name = re.sub(m.group(), mapping[m.group()], name)\n",
    "    return name\n",
    "\n",
    "\n",
    "#Checking postcode\n",
    "\n",
    "sqlite> select tags.value, count() as count\n",
    "   ...> from\n",
    "   ...> (select * from nodes_tags\n",
    "   ...> union all\n",
    "   ...> select * from ways_tags) tags\n",
    "   ...> where tags.key = 'postcode'\n",
    "   ...> group by tags.value\n",
    "   ...> order by count desc;\n",
    "11234|2015"
   ]
  }
 ],
 "metadata": {
  "kernelspec": {
   "display_name": "Python [Root]",
   "language": "python",
   "name": "Python [Root]"
  },
  "language_info": {
   "codemirror_mode": {
    "name": "ipython",
    "version": 2
   },
   "file_extension": ".py",
   "mimetype": "text/x-python",
   "name": "python",
   "nbconvert_exporter": "python",
   "pygments_lexer": "ipython2",
   "version": "2.7.12"
  }
 },
 "nbformat": 4,
 "nbformat_minor": 0
}
